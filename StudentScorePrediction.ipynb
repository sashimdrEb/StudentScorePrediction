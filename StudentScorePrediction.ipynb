{
 "cells": [
  {
   "cell_type": "code",
   "execution_count": 3,
   "id": "c2e3d662-1cf2-4b88-9d02-9346918e79ae",
   "metadata": {},
   "outputs": [
    {
     "name": "stdout",
     "output_type": "stream",
     "text": [
      "{'score': 1, 'feedback': {'Correctness': 'The answer identifies a key event (the invasion of Poland) but lacks detail on why this invasion occurred and fails to mention other significant causes leading to World War II, such as the Treaty of Versailles, economic factors, or the rise of fascism.', 'Clarity': 'The explanation is very brief and lacks structure. It does not elaborate on the context of the statement, which makes it unclear to someone who might not be familiar with the history.', 'Completeness': 'The answer does not fully address the question. It provides one cause but neglects to mention other critical factors that contributed to the outbreak of World War II.'}}\n"
     ]
    }
   ],
   "source": [
    "from openai import OpenAI\n",
    "import json\n",
    "from dotenv import load_dotenv\n",
    "import os\n",
    "\n",
    "# 1. Load environment variables first\n",
    "load_dotenv()  # Looks for .env file automatically \n",
    "\n",
    "# Initialize the OpenAI client\n",
    "client = OpenAI(api_key=os.getenv(\"OPENAI_API_KEY\")) \n",
    "\n",
    "# Define the grading rubric\n",
    "GRADING_RUBRIC = \"\"\"\n",
    "You are an expert teacher grading student answers. Evaluate the response based on:\n",
    "1. **Correctness** (0-4 points): Is the answer factually accurate?\n",
    "2. **Clarity** (0-3 points): Is the explanation clear and well-structured?\n",
    "3. **Completeness** (0-3 points): Does it fully address the question?\n",
    "\n",
    "Question: \"{question}\"\n",
    "\n",
    "Grade this answer strictly. Return a JSON format with 'score' (0-10) and 'feedback'.\n",
    "\"\"\"\n",
    "\n",
    "def grade_student_answer(question, student_answer):\n",
    "    prompt = GRADING_RUBRIC.format(question=question) + f\"\\n\\nStudent Answer: \\\"{student_answer}\\\"\"\n",
    "    \n",
    "    response = client.chat.completions.create(\n",
    "        model=\"gpt-4o-mini\",  # or \"gpt-3.5-turbo\" for lower cost\n",
    "        messages=[\n",
    "            {\"role\": \"system\", \"content\": \"You are a fair and strict examiner.\"},\n",
    "            {\"role\": \"user\", \"content\": prompt}\n",
    "        ],\n",
    "        response_format={\"type\": \"json_object\"}  # Force JSON output\n",
    "    )\n",
    "    \n",
    "    feedback = json.loads(response.choices[0].message.content)\n",
    "    return feedback\n",
    "\n",
    "# Example usage\n",
    "question = \"Explain the causes of World War II.\"\n",
    "student_answer = \"Hitler invaded Poland because he wanted more land.\"\n",
    "\n",
    "result = grade_student_answer(question, student_answer)\n",
    "print(result)"
   ]
  },
  {
   "cell_type": "code",
   "execution_count": 4,
   "id": "c6fd0987-df80-421b-93c0-e7463164f54e",
   "metadata": {},
   "outputs": [
    {
     "name": "stdout",
     "output_type": "stream",
     "text": [
      "{'score': 8, 'feedback': {'Correctness': 4, 'Clarity': 2, 'Completeness': 2}, 'comments': {'Correctness': 'The answer accurately identifies the major belligerents and provides a correct list of significant causes of World War II, fulfilling the factual accuracy requirement.', 'Clarity': \"While the initial context about World War II is informative, the structure could be improved. The transition from the conflict's overview to the causes feels abrupt. More clear delineation between general information and the causes would enhance clarity.\", 'Completeness': 'While the answer lists several important causes, it lacks depth in explaining each cause. Expanding on how each factor contributed to the onset of the war would provide a fuller response.'}}\n"
     ]
    }
   ],
   "source": [
    "# Example 2\n",
    "question = \"Explain the causes of World War II.\"\n",
    "student_answer = \"\"\"World War II was a conflict that involved virtually every part of the world during the years 1939–45. \n",
    "The principal belligerents were the Axis powers—Germany, Italy, and Japan—and the Allies—France, Great Britain, the United States, the Soviet Union, and, to a lesser extent, China.\n",
    "It was the biggest conflict in history that had lasted almost six years. \n",
    "Nearly some 100 million people had been militarised, and 50 million had been killed (around 3% of the world's population).\n",
    "\n",
    "The major causes of World War II were numerous. They include the impact of the Treaty of Versailles following WWI, the worldwide economic depression, failure of appeasement, the rise of militarism in Germany and Japan, and the failure of the League of Nations.\n",
    "\"\"\"\n",
    "\n",
    "result = grade_student_answer(question, student_answer)\n",
    "print(result)"
   ]
  },
  {
   "cell_type": "code",
   "execution_count": 5,
   "id": "aad487e4-ee86-448d-bca8-cac7def17799",
   "metadata": {},
   "outputs": [
    {
     "name": "stdout",
     "output_type": "stream",
     "text": [
      "{'score': 4, 'feedback': 'Good attempt! You mentioned Germany as a key factor, which is an important part of understanding World War II. Next time, consider adding more details about other causes like the Treaty of Versailles or the rise of totalitarian regimes to strengthen your answer.'}\n"
     ]
    }
   ],
   "source": [
    "# Example for not strictly analysing the answer\n",
    "\n",
    "LENIENT_GRADING_RUBRIC = \"\"\"\n",
    "You are a supportive teacher grading student answers. Evaluate the response generously:\n",
    "1. **Effort** (0-5 points): Did the student attempt a meaningful answer?\n",
    "2. **Partial Correctness** (0-3 points): Even partially correct ideas earn points.\n",
    "3. **Clarity** (0-2 points): Basic readability is sufficient.\n",
    "\n",
    "Question: \"{question}\"\n",
    "\n",
    "Return JSON with 'score' (0-10) and 'feedback' (encouraging tone).\n",
    "Example feedback: \"Good attempt! You mentioned [X]. Next time, consider adding [Y].\"\n",
    "\"\"\"\n",
    "\n",
    "def lenient_grade(question, student_answer):\n",
    "    prompt = LENIENT_GRADING_RUBRIC.format(question=question) + f\"\\n\\nStudent Answer: \\\"{student_answer}\\\"\"\n",
    "    \n",
    "    response = client.chat.completions.create(\n",
    "        model=\"gpt-4o-mini\",\n",
    "        messages=[\n",
    "            {\"role\": \"system\", \"content\": \"You are a supportive teacher.\"},\n",
    "            {\"role\": \"user\", \"content\": prompt}\n",
    "        ],\n",
    "        response_format={\"type\": \"json_object\"}\n",
    "    )\n",
    "    \n",
    "    return json.loads(response.choices[0].message.content)\n",
    "\n",
    "# Example usage\n",
    "question = \"Explain the causes of World War II.\"\n",
    "student_answer = \"There was a war because of Germany.\"\n",
    "\n",
    "result = lenient_grade(question, student_answer)\n",
    "print(result)"
   ]
  },
  {
   "cell_type": "code",
   "execution_count": 6,
   "id": "70973d5d-cf6a-40ea-a70b-c29157674573",
   "metadata": {},
   "outputs": [
    {
     "name": "stdout",
     "output_type": "stream",
     "text": [
      "{'score': 2, 'feedback': \"Thank you for your effort! You made an interesting point about Nepal. Next time, try to connect it with more widely recognized causes of World War II, like the Treaty of Versailles or the rise of totalitarian regimes. You're on the right track!\"}\n"
     ]
    }
   ],
   "source": [
    "\n",
    "# Example usage\n",
    "question = \"Explain the causes of World War II.\"\n",
    "student_answer = \"There was a war because of Nepal.\"\n",
    "\n",
    "result = lenient_grade(question, student_answer)\n",
    "print(result)"
   ]
  },
  {
   "cell_type": "code",
   "execution_count": 7,
   "id": "f4d1373c-6472-4986-9747-88cdc6a94330",
   "metadata": {},
   "outputs": [
    {
     "name": "stdout",
     "output_type": "stream",
     "text": [
      "{'score': 4, 'feedback': 'Good attempt! You mentioned the Indian Ocean, which is one of the major oceans. However, the largest ocean in the world is actually the Pacific Ocean. Next time, consider exploring the sizes of the different oceans to enhance your answer!'}\n"
     ]
    }
   ],
   "source": [
    "# Example usage\n",
    "question = \"What is the largest ocean in the world\"\n",
    "student_answer = \"Indian Ocean\"\n",
    "\n",
    "result = lenient_grade(question, student_answer)\n",
    "print(result)"
   ]
  },
  {
   "cell_type": "code",
   "execution_count": 8,
   "id": "8164d63a-ecf8-471b-809d-58de792e0b6a",
   "metadata": {},
   "outputs": [
    {
     "name": "stdout",
     "output_type": "stream",
     "text": [
      "{'score': 2, 'feedback': \"Thank you for your response! While 'Tilicho' is a notable lake, the largest ocean in the world is actually the Pacific Ocean. Great effort in sharing your thoughts! Next time, you could explore ocean-related topics more deeply to strengthen your answers.\"}\n"
     ]
    }
   ],
   "source": [
    "# Example usage\n",
    "question = \"What is the largest ocean in the world\"\n",
    "student_answer = \"Tilicho\"\n",
    "\n",
    "result = lenient_grade(question, student_answer)\n",
    "print(result)"
   ]
  },
  {
   "cell_type": "code",
   "execution_count": 9,
   "id": "f9291b1f-267a-4109-b6d2-b79b0945ba06",
   "metadata": {},
   "outputs": [
    {
     "name": "stdout",
     "output_type": "stream",
     "text": [
      "{'score': 2, 'feedback': \"Thank you for your response! While you mentioned 'America,' it seems there might have been a mix-up regarding the question. The largest ocean in the world is actually the Pacific Ocean. Keep up the effort, and don't hesitate to explore more about oceans in your studies!\"}\n"
     ]
    }
   ],
   "source": [
    "# Example usage\n",
    "question = \"What is the largest ocean in the world\"\n",
    "student_answer = \"America\"\n",
    "\n",
    "result = lenient_grade(question, student_answer)\n",
    "print(result)"
   ]
  },
  {
   "cell_type": "code",
   "execution_count": 10,
   "id": "b04c8b46-0d02-4e14-9191-9d655936bc2d",
   "metadata": {},
   "outputs": [
    {
     "name": "stdout",
     "output_type": "stream",
     "text": [
      "{'score': 1, 'feedback': {'Correctness': 'The answer is factually incorrect. America is not an ocean; the largest ocean in the world is the Pacific Ocean.', 'Clarity': 'The response lacks clarity, as it does not provide any context or explanation related to oceans.', 'Completeness': 'The answer does not address the question at all, failing to provide the name of the largest ocean or any relevant information.'}}\n"
     ]
    }
   ],
   "source": [
    "# Example usage\n",
    "question = \"What is the largest ocean in the world\"\n",
    "student_answer = \"America\"\n",
    "\n",
    "result = grade_student_answer(question, student_answer)\n",
    "print(result)"
   ]
  },
  {
   "cell_type": "code",
   "execution_count": null,
   "id": "bfc03956-dfb8-4752-a252-578abcf9721c",
   "metadata": {},
   "outputs": [],
   "source": []
  }
 ],
 "metadata": {
  "kernelspec": {
   "display_name": "Python (myenv)",
   "language": "python",
   "name": "myenv"
  },
  "language_info": {
   "codemirror_mode": {
    "name": "ipython",
    "version": 3
   },
   "file_extension": ".py",
   "mimetype": "text/x-python",
   "name": "python",
   "nbconvert_exporter": "python",
   "pygments_lexer": "ipython3",
   "version": "3.13.2"
  }
 },
 "nbformat": 4,
 "nbformat_minor": 5
}
